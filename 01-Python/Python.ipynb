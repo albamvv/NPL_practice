{
 "cells": [
  {
   "cell_type": "markdown",
   "metadata": {},
   "source": [
    "## Python Crash Course"
   ]
  },
  {
   "cell_type": "markdown",
   "metadata": {},
   "source": [
    "### 1. Data Types\n",
    "**Points to Cover:**\n",
    "- Fundamental data types in Python: `int`, `float`, `str`, `bool`, `NoneType`.\n",
    "- Mutable vs Immutable data types.\n",
    "- Type conversion between different data types using functions like `int()`, `float()`, `str()`, `bool()`.\n",
    "- Understanding how Python automatically infers the data type of a variable.\n",
    "- Checking the type of a variable using `type()`.\n"
   ]
  },
  {
   "cell_type": "code",
   "execution_count": 5,
   "metadata": {},
   "outputs": [
    {
     "data": {
      "text/plain": [
       "(int, int, int)"
      ]
     },
     "execution_count": 5,
     "metadata": {},
     "output_type": "execute_result"
    }
   ],
   "source": [
    "# integer\n",
    "10, 12, 15, -12, -34, 0\n",
    "\n",
    "x = 10\n",
    "y = -10\n",
    "z = 0\n",
    "\n",
    "type(x), type(y), type(z)"
   ]
  },
  {
   "cell_type": "code",
   "execution_count": 14,
   "metadata": {},
   "outputs": [
    {
     "data": {
      "text/plain": [
       "(float, float, float, float)"
      ]
     },
     "execution_count": 14,
     "metadata": {},
     "output_type": "execute_result"
    }
   ],
   "source": [
    "pi = 3.14159\n",
    "negative_value = -2.345\n",
    "negative_zero = -0.0\n",
    "value = 1.\n",
    "\n",
    "value = x/1\n",
    "\n",
    "type(pi), type(negative_value), type(negative_zero), type(value)"
   ]
  },
  {
   "cell_type": "code",
   "execution_count": 21,
   "metadata": {},
   "outputs": [
    {
     "name": "stdout",
     "output_type": "stream",
     "text": [
      "\n",
      "this is multiline\n",
      "string\n",
      "hello\n",
      "\n"
     ]
    },
    {
     "data": {
      "text/plain": [
       "str"
      ]
     },
     "execution_count": 21,
     "metadata": {},
     "output_type": "execute_result"
    }
   ],
   "source": [
    "name = 'hello'\n",
    "greeting = 'Hello, how are you?'\n",
    "\n",
    "double_quotes = \"this is double quotes\"\n",
    "\n",
    "multiline = \"\"\"\n",
    "this is multiline\n",
    "string\n",
    "hello\n",
    "\"\"\"\n",
    "\n",
    "# type(name), type(greeting), type(double_quotes)\n",
    "\n",
    "print(multiline)\n",
    "\n",
    "type(multiline)"
   ]
  },
  {
   "cell_type": "code",
   "execution_count": 22,
   "metadata": {},
   "outputs": [
    {
     "data": {
      "text/plain": [
       "(bool, bool)"
      ]
     },
     "execution_count": 22,
     "metadata": {},
     "output_type": "execute_result"
    }
   ],
   "source": [
    "# boolean\n",
    "# True, False\n",
    "is_valid = True\n",
    "flag = False\n",
    "\n",
    "type(is_valid), type(flag)"
   ]
  },
  {
   "cell_type": "code",
   "execution_count": 25,
   "metadata": {},
   "outputs": [
    {
     "data": {
      "text/plain": [
       "NoneType"
      ]
     },
     "execution_count": 25,
     "metadata": {},
     "output_type": "execute_result"
    }
   ],
   "source": [
    "# None Data type\n",
    "\n",
    "none = None\n",
    "\n",
    "type(none)"
   ]
  },
  {
   "cell_type": "code",
   "execution_count": 45,
   "metadata": {},
   "outputs": [
    {
     "data": {
      "text/plain": [
       "123"
      ]
     },
     "execution_count": 45,
     "metadata": {},
     "output_type": "execute_result"
    }
   ],
   "source": [
    "# int -> float, float -> int, str -> int\n",
    "\n",
    "type(float(x))\n",
    "\n",
    "type(int(negative_value))\n",
    "\n",
    "bool(name)\n",
    "name\n",
    "\n",
    "value = '123'\n",
    "\n",
    "type(float(value)), float(value)\n",
    "\n",
    "value = '123.0'\n",
    "\n",
    "int(float(value))\n",
    "\n"
   ]
  },
  {
   "cell_type": "code",
   "execution_count": 46,
   "metadata": {},
   "outputs": [],
   "source": [
    "# mutable and immutable data types"
   ]
  },
  {
   "cell_type": "code",
   "execution_count": 66,
   "metadata": {},
   "outputs": [
    {
     "name": "stdout",
     "output_type": "stream",
     "text": [
      "h e l l o\n"
     ]
    }
   ],
   "source": [
    "# [] -> list, () -< tuple\n",
    "\n",
    "numbers = [1,2,3,4] # mutable\n",
    "numbers[0] = 12\n",
    "type(numbers), numbers\n",
    "\n",
    "tup = (1,2,3,4) # immutable\n",
    "# tup[0] = 12\n",
    "\n",
    "print(name[0], name[1], name[2], name[3], name[4])\n",
    "\n",
    "# name[0] = 'c'"
   ]
  },
  {
   "cell_type": "markdown",
   "metadata": {},
   "source": [
    "### 2. String Assignment\n",
    "**Points to Cover:**\n",
    "- How to assign strings to variables using quotes (`'` or `\"`).\n",
    "- Concatenation and repetition of strings using `+` and `*` operators.\n",
    "- String indexing and slicing.\n",
    "- Common string methods: `len()`, `upper()`, `lower()`, `strip()`, `replace()`.\n",
    "- Formatting strings using f-strings or `format()` method.\n"
   ]
  },
  {
   "cell_type": "code",
   "execution_count": 68,
   "metadata": {},
   "outputs": [],
   "source": [
    "name = \"hello\"\n",
    "hello = 'world!'\n",
    "something = '''\n",
    "something like \n",
    "this\n",
    "'''"
   ]
  },
  {
   "cell_type": "code",
   "execution_count": 84,
   "metadata": {},
   "outputs": [
    {
     "name": "stdout",
     "output_type": "stream",
     "text": [
      ":-> hello world!-+\n"
     ]
    },
    {
     "data": {
      "text/plain": [
       "str"
      ]
     },
     "execution_count": 84,
     "metadata": {},
     "output_type": "execute_result"
    }
   ],
   "source": [
    "hello_world = \":-> \" + name + \" \" + hello + \"-+\"\n",
    "\n",
    "print(hello_world)\n",
    "type(hello_world)"
   ]
  },
  {
   "cell_type": "code",
   "execution_count": 85,
   "metadata": {},
   "outputs": [
    {
     "data": {
      "text/plain": [
       "18"
      ]
     },
     "execution_count": 85,
     "metadata": {},
     "output_type": "execute_result"
    }
   ],
   "source": [
    "len(hello_world)"
   ]
  },
  {
   "cell_type": "code",
   "execution_count": 86,
   "metadata": {},
   "outputs": [
    {
     "data": {
      "text/plain": [
       "(':', '+')"
      ]
     },
     "execution_count": 86,
     "metadata": {},
     "output_type": "execute_result"
    }
   ],
   "source": [
    "hello_world[0], hello_world[-1]"
   ]
  },
  {
   "cell_type": "code",
   "execution_count": 92,
   "metadata": {},
   "outputs": [
    {
     "data": {
      "text/plain": [
       "(':->', '!-+', ':-> hello world', ' hello')"
      ]
     },
     "execution_count": 92,
     "metadata": {},
     "output_type": "execute_result"
    }
   ],
   "source": [
    "hello_world[:3], hello_world[-3:], hello_world[:-3], hello_world[3:9]"
   ]
  },
  {
   "cell_type": "code",
   "execution_count": 95,
   "metadata": {},
   "outputs": [
    {
     "data": {
      "text/plain": [
       "'simple simple simple '"
      ]
     },
     "execution_count": 95,
     "metadata": {},
     "output_type": "execute_result"
    }
   ],
   "source": [
    "\"simple \"*3"
   ]
  },
  {
   "cell_type": "code",
   "execution_count": 114,
   "metadata": {},
   "outputs": [
    {
     "data": {
      "text/plain": [
       "':-> hello world!-'"
      ]
     },
     "execution_count": 114,
     "metadata": {},
     "output_type": "execute_result"
    }
   ],
   "source": [
    "# String Methods\n",
    "\n",
    "# len, upper, lower, strip, replace\n",
    "\n",
    "hello_world.upper()\n",
    "\n",
    "\"Upper\".lower()\n",
    "\n",
    "x = \"SoMe fOrmAt\"\n",
    "x.lower()\n",
    "\n",
    "x.upper()\n",
    "\n",
    "x.title()\n",
    "\n",
    "x = \"  hello   \"\n",
    "# print(x.strip())\n",
    "\n",
    "len(x), len(x.strip())\n",
    "\n",
    "hello_world.strip('+')\n",
    "\n"
   ]
  },
  {
   "cell_type": "code",
   "execution_count": 128,
   "metadata": {},
   "outputs": [
    {
     "name": "stdout",
     "output_type": "stream",
     "text": [
      "!hello world!\n",
      "\n",
      "Hello KGP Talkie.\n",
      "You have become 30 years old!\n",
      "\n"
     ]
    }
   ],
   "source": [
    "# String formatting\n",
    "\n",
    "hello = \"!{} world!\".format(\"hello\")\n",
    "\n",
    "print(hello)\n",
    "\n",
    "name = f\"hello-> {hello}\"\n",
    "name\n",
    "\n",
    "age = 30\n",
    "name = \"KGP Talkie\"\n",
    "message = f\"Hello {name}. You have become {age} years old!\"\n",
    "message\n",
    "\n",
    "message = f\"\"\"Hello {name}.\n",
    "You have become {age} years old!\n",
    "\"\"\"\n",
    "\n",
    "print()\n",
    "print(message)"
   ]
  },
  {
   "cell_type": "markdown",
   "metadata": {},
   "source": [
    "### 3. List\n",
    "**Points to Cover:**\n",
    "- Lists are ordered, mutable collections of items.\n",
    "- Creating lists with square brackets `[]` and accessing elements by index.\n",
    "- List methods: `append()`, `remove()`, `pop()`, `sort()`, `reverse()`.\n",
    "- Slicing lists and list comprehensions.\n",
    "- Nested lists and multidimensional lists.\n"
   ]
  },
  {
   "cell_type": "code",
   "execution_count": 133,
   "metadata": {},
   "outputs": [
    {
     "data": {
      "text/plain": [
       "('apple', 'banana', 'cherry')"
      ]
     },
     "execution_count": 133,
     "metadata": {},
     "output_type": "execute_result"
    }
   ],
   "source": [
    "fruits = ['apple', 'banana', 'cherry']\n",
    "\n",
    "len(fruits)\n",
    "\n",
    "fruits[0], fruits[1], fruits[2]#, fruits[3]"
   ]
  },
  {
   "cell_type": "code",
   "execution_count": 135,
   "metadata": {},
   "outputs": [],
   "source": [
    "fruits.append(\"orange\")"
   ]
  },
  {
   "cell_type": "code",
   "execution_count": 137,
   "metadata": {},
   "outputs": [],
   "source": [
    "fruits.remove('apple')"
   ]
  },
  {
   "cell_type": "code",
   "execution_count": 139,
   "metadata": {},
   "outputs": [
    {
     "data": {
      "text/plain": [
       "('banana', 'cherry', 'orange')"
      ]
     },
     "execution_count": 139,
     "metadata": {},
     "output_type": "execute_result"
    }
   ],
   "source": [
    "fruits\n",
    "fruits[0], fruits[1], fruits[2]#, fruits[3]"
   ]
  },
  {
   "cell_type": "code",
   "execution_count": 141,
   "metadata": {},
   "outputs": [
    {
     "data": {
      "text/plain": [
       "'orange'"
      ]
     },
     "execution_count": 141,
     "metadata": {},
     "output_type": "execute_result"
    }
   ],
   "source": [
    "fruits[-1]"
   ]
  },
  {
   "cell_type": "code",
   "execution_count": 142,
   "metadata": {},
   "outputs": [
    {
     "data": {
      "text/plain": [
       "'orange'"
      ]
     },
     "execution_count": 142,
     "metadata": {},
     "output_type": "execute_result"
    }
   ],
   "source": [
    "fruits.pop()"
   ]
  },
  {
   "cell_type": "code",
   "execution_count": 144,
   "metadata": {},
   "outputs": [
    {
     "data": {
      "text/plain": [
       "'banana'"
      ]
     },
     "execution_count": 144,
     "metadata": {},
     "output_type": "execute_result"
    }
   ],
   "source": [
    "fruits.pop(0)"
   ]
  },
  {
   "cell_type": "code",
   "execution_count": 147,
   "metadata": {},
   "outputs": [],
   "source": [
    "fruits\n",
    "\n",
    "fruits = ['banana', 'apple', 'cherry']\n",
    "\n",
    "fruits.sort()"
   ]
  },
  {
   "cell_type": "code",
   "execution_count": 149,
   "metadata": {},
   "outputs": [],
   "source": [
    "fruits.reverse()"
   ]
  },
  {
   "cell_type": "code",
   "execution_count": 150,
   "metadata": {},
   "outputs": [
    {
     "data": {
      "text/plain": [
       "['cherry', 'banana', 'apple']"
      ]
     },
     "execution_count": 150,
     "metadata": {},
     "output_type": "execute_result"
    }
   ],
   "source": [
    "fruits"
   ]
  },
  {
   "cell_type": "code",
   "execution_count": 152,
   "metadata": {},
   "outputs": [],
   "source": [
    "fruits = ['banana', 'apple', 'cherry', 'orange', 'mango']"
   ]
  },
  {
   "cell_type": "code",
   "execution_count": 159,
   "metadata": {},
   "outputs": [
    {
     "data": {
      "text/plain": [
       "['apple', 'cherry']"
      ]
     },
     "execution_count": 159,
     "metadata": {},
     "output_type": "execute_result"
    }
   ],
   "source": [
    "fruits[:2]\n",
    "fruits[-2:]\n",
    "fruits[:-2]\n",
    "fruits[1:]\n",
    "fruits[1:3]\n",
    "\n"
   ]
  },
  {
   "cell_type": "code",
   "execution_count": 167,
   "metadata": {},
   "outputs": [
    {
     "data": {
      "text/plain": [
       "('banana', 'papaya', 'apple')"
      ]
     },
     "execution_count": 167,
     "metadata": {},
     "output_type": "execute_result"
    }
   ],
   "source": [
    "# nested list\n",
    "\n",
    "fruits \n",
    "\n",
    "nested_fruits = [['banana', 'papaya'], ['apple', 'mango']]\n",
    "\n",
    "len(fruits), len(nested_fruits)\n",
    "\n",
    "nested_fruits[0], nested_fruits[1]\n",
    "\n",
    "nested_fruits[0][0], nested_fruits[0][1], nested_fruits[1][0]"
   ]
  },
  {
   "cell_type": "code",
   "execution_count": 169,
   "metadata": {},
   "outputs": [],
   "source": [
    "fruits.extend(nested_fruits)"
   ]
  },
  {
   "cell_type": "code",
   "execution_count": 171,
   "metadata": {},
   "outputs": [
    {
     "name": "stdout",
     "output_type": "stream",
     "text": [
      "['banana', 'apple', 'cherry', 'orange', 'mango', ['banana', 'papaya'], ['apple', 'mango']]\n"
     ]
    }
   ],
   "source": [
    "print(fruits)"
   ]
  },
  {
   "cell_type": "code",
   "execution_count": 172,
   "metadata": {},
   "outputs": [
    {
     "data": {
      "text/plain": [
       "['string', 12, 23.4, False]"
      ]
     },
     "execution_count": 172,
     "metadata": {},
     "output_type": "execute_result"
    }
   ],
   "source": [
    "any_list = ['string', 12, 23.4, False]\n",
    "any_list"
   ]
  },
  {
   "cell_type": "code",
   "execution_count": 173,
   "metadata": {},
   "outputs": [],
   "source": [
    "anything = fruits + any_list"
   ]
  },
  {
   "cell_type": "code",
   "execution_count": 174,
   "metadata": {},
   "outputs": [
    {
     "name": "stdout",
     "output_type": "stream",
     "text": [
      "['banana', 'apple', 'cherry', 'orange', 'mango', ['banana', 'papaya'], ['apple', 'mango'], 'string', 12, 23.4, False]\n"
     ]
    }
   ],
   "source": [
    "print(anything)"
   ]
  },
  {
   "cell_type": "markdown",
   "metadata": {},
   "source": [
    "\n",
    "### 4. Set\n",
    "**Points to Cover:**\n",
    "- Sets are unordered collections of unique elements.\n",
    "- Creating sets with curly braces `{}` or the `set()` function.\n",
    "- Adding and removing elements using `add()` and `remove()`.\n",
    "- Set operations: union (`|`), intersection (`&`), difference (`-`), symmetric difference (`^`).\n",
    "- Converting lists to sets to remove duplicates.\n"
   ]
  },
  {
   "cell_type": "code",
   "execution_count": null,
   "metadata": {},
   "outputs": [],
   "source": [
    "# [] <- list, () <- tuple, {} <- dict, set"
   ]
  },
  {
   "cell_type": "code",
   "execution_count": 183,
   "metadata": {},
   "outputs": [],
   "source": [
    "list_numbers = [1,2,3,4,5,1,2,3]\n",
    "numbers = set([1,2,3,4,5,1,2,3])\n",
    "list_numbers\n",
    "\n",
    "numbers.add(14)"
   ]
  },
  {
   "cell_type": "code",
   "execution_count": 185,
   "metadata": {},
   "outputs": [],
   "source": [
    "numbers.remove(3)"
   ]
  },
  {
   "cell_type": "code",
   "execution_count": 192,
   "metadata": {},
   "outputs": [
    {
     "data": {
      "text/plain": [
       "({1, 3, 5, 6}, {1, 3, 5, 6})"
      ]
     },
     "execution_count": 192,
     "metadata": {},
     "output_type": "execute_result"
    }
   ],
   "source": [
    "A = {1, 2, 3, 4}\n",
    "B = {2, 4, 5, 6}\n",
    "\n",
    "union = A | B\n",
    "intersection = A & B\n",
    "difference = A - B\n",
    "B_A = B - A\n",
    "\n",
    "sym_diff = A ^ B \n",
    "\n",
    "sym_diff, union-intersection"
   ]
  },
  {
   "cell_type": "code",
   "execution_count": 196,
   "metadata": {},
   "outputs": [
    {
     "data": {
      "text/plain": [
       "{1, 1.2, 2, 3, 'one', 'two'}"
      ]
     },
     "execution_count": 196,
     "metadata": {},
     "output_type": "execute_result"
    }
   ],
   "source": [
    "list_numbers = [1, 2, 3, 'one', 'two', 1.2, 1, 2]\n",
    "\n",
    "numbers = set(list_numbers)\n",
    "\n",
    "numbers"
   ]
  },
  {
   "cell_type": "code",
   "execution_count": 197,
   "metadata": {},
   "outputs": [
    {
     "data": {
      "text/plain": [
       "[1, 2, 3, 1.2, 'two', 'one']"
      ]
     },
     "execution_count": 197,
     "metadata": {},
     "output_type": "execute_result"
    }
   ],
   "source": [
    "list(numbers)"
   ]
  },
  {
   "cell_type": "code",
   "execution_count": 207,
   "metadata": {},
   "outputs": [
    {
     "data": {
      "text/plain": [
       "{1, 2.3, 'one', 'set'}"
      ]
     },
     "execution_count": 207,
     "metadata": {},
     "output_type": "execute_result"
    }
   ],
   "source": [
    "manual_set = {'set', 'one', 1, 2.3}\n",
    "manual_set"
   ]
  },
  {
   "cell_type": "markdown",
   "metadata": {},
   "source": [
    "### 5. Tuple\n",
    "**Points to Cover:**\n",
    "- Tuples are ordered, immutable collections of items.\n",
    "- Creating tuples using parentheses `()` and accessing elements by index.\n",
    "- Unpacking tuples into variables.\n",
    "- Tuples are often used for fixed collections of items.\n",
    "- Advantages of tuples over lists (e.g., immutability and performance).\n"
   ]
  },
  {
   "cell_type": "code",
   "execution_count": 215,
   "metadata": {},
   "outputs": [],
   "source": [
    "person = (\"Bob\", 25, \"Engineer\")\n",
    "\n",
    "len(person)\n",
    "\n",
    "tuple_numbers = tuple(list_numbers)"
   ]
  },
  {
   "cell_type": "code",
   "execution_count": 217,
   "metadata": {},
   "outputs": [
    {
     "data": {
      "text/plain": [
       "(tuple, list)"
      ]
     },
     "execution_count": 217,
     "metadata": {},
     "output_type": "execute_result"
    }
   ],
   "source": [
    "type(tuple_numbers), type(list_numbers)"
   ]
  },
  {
   "cell_type": "code",
   "execution_count": 220,
   "metadata": {},
   "outputs": [
    {
     "data": {
      "text/plain": [
       "('one', 'two')"
      ]
     },
     "execution_count": 220,
     "metadata": {},
     "output_type": "execute_result"
    }
   ],
   "source": [
    "tuple_numbers[3], tuple_numbers[4]"
   ]
  },
  {
   "cell_type": "code",
   "execution_count": 225,
   "metadata": {},
   "outputs": [
    {
     "data": {
      "text/plain": [
       "('Bob', 25, 'Engineer')"
      ]
     },
     "execution_count": 225,
     "metadata": {},
     "output_type": "execute_result"
    }
   ],
   "source": [
    "x = (tuple_numbers, person)\n",
    "x[1]"
   ]
  },
  {
   "cell_type": "code",
   "execution_count": 227,
   "metadata": {},
   "outputs": [],
   "source": [
    "x = tuple_numbers[3], tuple_numbers[4]  # packing"
   ]
  },
  {
   "cell_type": "code",
   "execution_count": 231,
   "metadata": {},
   "outputs": [],
   "source": [
    "y,z = x # unpacking"
   ]
  },
  {
   "cell_type": "markdown",
   "metadata": {},
   "source": [
    "### 6. Dictionary\n",
    "**Points to Cover:**\n",
    "- Dictionaries are collections of key-value pairs.\n",
    "- Creating dictionaries with curly braces `{}` and accessing values by keys.\n",
    "- Adding, updating, and removing key-value pairs.\n",
    "- Iterating over dictionaries with `keys()`, `values()`, and `items()`.\n",
    "- Nested dictionaries for more complex data structures.\n"
   ]
  },
  {
   "cell_type": "code",
   "execution_count": 235,
   "metadata": {},
   "outputs": [
    {
     "data": {
      "text/plain": [
       "dict"
      ]
     },
     "execution_count": 235,
     "metadata": {},
     "output_type": "execute_result"
    }
   ],
   "source": [
    "# key:value\n",
    "person = {'name': 'Bob', 'age': 25, 'job': 'Engineer'}\n",
    "\n",
    "type(person)"
   ]
  },
  {
   "cell_type": "code",
   "execution_count": 238,
   "metadata": {},
   "outputs": [],
   "source": [
    "person['age'] = 26\n",
    "person['age'] = person['age'] + 1"
   ]
  },
  {
   "cell_type": "code",
   "execution_count": 242,
   "metadata": {},
   "outputs": [],
   "source": [
    "del person['job']"
   ]
  },
  {
   "cell_type": "code",
   "execution_count": 244,
   "metadata": {},
   "outputs": [
    {
     "data": {
      "text/plain": [
       "27"
      ]
     },
     "execution_count": 244,
     "metadata": {},
     "output_type": "execute_result"
    }
   ],
   "source": [
    "person.pop('age')"
   ]
  },
  {
   "cell_type": "code",
   "execution_count": 246,
   "metadata": {},
   "outputs": [],
   "source": [
    "person['job'] = \"Doctor\""
   ]
  },
  {
   "cell_type": "code",
   "execution_count": 249,
   "metadata": {},
   "outputs": [
    {
     "data": {
      "text/plain": [
       "(dict_keys(['name', 'job']), dict_values(['Bob', 'Doctor']))"
      ]
     },
     "execution_count": 249,
     "metadata": {},
     "output_type": "execute_result"
    }
   ],
   "source": [
    "person.keys(), person.values()"
   ]
  },
  {
   "cell_type": "code",
   "execution_count": 252,
   "metadata": {},
   "outputs": [
    {
     "data": {
      "text/plain": [
       "(['name', 'job'], ['Bob', 'Doctor'])"
      ]
     },
     "execution_count": 252,
     "metadata": {},
     "output_type": "execute_result"
    }
   ],
   "source": [
    "keys = list(person)\n",
    "values = list(person.values())\n",
    "\n",
    "keys, values"
   ]
  },
  {
   "cell_type": "code",
   "execution_count": 254,
   "metadata": {},
   "outputs": [
    {
     "data": {
      "text/plain": [
       "{'name': 'Bob', 'job': 'Doctor'}"
      ]
     },
     "execution_count": 254,
     "metadata": {},
     "output_type": "execute_result"
    }
   ],
   "source": [
    "dict(zip(keys, values))"
   ]
  },
  {
   "cell_type": "code",
   "execution_count": 256,
   "metadata": {},
   "outputs": [
    {
     "data": {
      "text/plain": [
       "dict_items([('name', 'Bob'), ('job', 'Doctor')])"
      ]
     },
     "execution_count": 256,
     "metadata": {},
     "output_type": "execute_result"
    }
   ],
   "source": [
    "person.items()"
   ]
  },
  {
   "cell_type": "code",
   "execution_count": 258,
   "metadata": {},
   "outputs": [
    {
     "data": {
      "text/plain": [
       "{'name': 'Bob', 'job': 'Data Scientist', 'age': 30}"
      ]
     },
     "execution_count": 258,
     "metadata": {},
     "output_type": "execute_result"
    }
   ],
   "source": [
    "temp = {'age': 30, 'job': 'Data Scientist'}\n",
    "\n",
    "person.update(temp)\n",
    "\n",
    "person"
   ]
  },
  {
   "cell_type": "markdown",
   "metadata": {},
   "source": [
    "### 7. Boolean and Comparison Operators\n",
    "**Points to Cover:**\n",
    "- Boolean values `True` and `False`.\n",
    "- Comparison operators: `==`, `!=`, `>`, `<`, `>=`, `<=`.\n",
    "- Using boolean expressions in conditional statements.\n",
    "- Combining comparisons using `and`, `or`, `not`.\n",
    "- Understanding truthy and falsy values in Python.\n"
   ]
  },
  {
   "cell_type": "code",
   "execution_count": 259,
   "metadata": {},
   "outputs": [
    {
     "data": {
      "text/plain": [
       "False"
      ]
     },
     "execution_count": 259,
     "metadata": {},
     "output_type": "execute_result"
    }
   ],
   "source": [
    "is_active = True\n",
    "is_admin = False\n",
    "\n",
    "is_active==is_admin"
   ]
  },
  {
   "cell_type": "code",
   "execution_count": 270,
   "metadata": {},
   "outputs": [
    {
     "data": {
      "text/plain": [
       "True"
      ]
     },
     "execution_count": 270,
     "metadata": {},
     "output_type": "execute_result"
    }
   ],
   "source": [
    "5==5\n",
    "5==4\n",
    "5>4\n",
    "5<4\n",
    "5<=4\n",
    "5>=4\n",
    "4>=4\n",
    "\n",
    "1.0==1\n",
    "'string'=='string'"
   ]
  },
  {
   "cell_type": "code",
   "execution_count": 273,
   "metadata": {},
   "outputs": [
    {
     "data": {
      "text/plain": [
       "(True, False, False, False)"
      ]
     },
     "execution_count": 273,
     "metadata": {},
     "output_type": "execute_result"
    }
   ],
   "source": [
    "# logical operator\n",
    "# and, or, not\n",
    "\n",
    "(5>3) and (4>3)\n",
    "\n",
    "True and True, True and False, False and False, False and True"
   ]
  },
  {
   "cell_type": "code",
   "execution_count": 274,
   "metadata": {},
   "outputs": [
    {
     "data": {
      "text/plain": [
       "(True, True, False, True)"
      ]
     },
     "execution_count": 274,
     "metadata": {},
     "output_type": "execute_result"
    }
   ],
   "source": [
    "True or True, True or False, False or False, False or True"
   ]
  },
  {
   "cell_type": "code",
   "execution_count": 276,
   "metadata": {},
   "outputs": [
    {
     "data": {
      "text/plain": [
       "(False, True)"
      ]
     },
     "execution_count": 276,
     "metadata": {},
     "output_type": "execute_result"
    }
   ],
   "source": [
    "not True, not False"
   ]
  },
  {
   "cell_type": "code",
   "execution_count": 293,
   "metadata": {},
   "outputs": [
    {
     "name": "stdout",
     "output_type": "stream",
     "text": [
      "This is true\n",
      "this is truthy condition\n"
     ]
    }
   ],
   "source": [
    "if \"none\":\n",
    "    print(\"This is true\")\n",
    "\n",
    "\n",
    "# Truthy values -> something which is present\n",
    "# Falsy -> something which is empty or not present\n",
    "\n",
    "if None:\n",
    "    print('this is none')\n",
    "\n",
    "if []:\n",
    "    print('this is empty list')\n",
    "\n",
    "if \"\":\n",
    "    print('this is empty string')\n",
    "\n",
    "condition = {\"\"}\n",
    "condition = [[]]\n",
    "condition = 0\n",
    "condition = False #True\n",
    "condition = 5==5\n",
    "\n",
    "if condition:\n",
    "    print('this is truthy condition')\n"
   ]
  },
  {
   "cell_type": "code",
   "execution_count": null,
   "metadata": {},
   "outputs": [],
   "source": []
  },
  {
   "cell_type": "markdown",
   "metadata": {},
   "source": [
    "### 8. If, Else, Elif\n",
    "**Points to Cover:**\n",
    "- Basic structure of `if` statements.\n",
    "- Using `else` and `elif` for multiple conditions.\n",
    "- Nesting `if` statements for more complex logic.\n",
    "- Using conditional expressions (`ternary operator`).\n",
    "- Practical examples in decision-making scenarios.\n"
   ]
  },
  {
   "cell_type": "code",
   "execution_count": 299,
   "metadata": {},
   "outputs": [
    {
     "name": "stdout",
     "output_type": "stream",
     "text": [
      "Your if condition is executed!\n",
      "You are not an adult\n"
     ]
    }
   ],
   "source": [
    "age = 17\n",
    "\n",
    "if age>= 18:\n",
    "    print('You are an adult')\n",
    "\n",
    "print(\"Your if condition is executed!\")\n",
    "\n",
    "if age>= 18:\n",
    "    print('You are an adult')\n",
    "else:\n",
    "    print('You are not an adult')"
   ]
  },
  {
   "cell_type": "code",
   "execution_count": 303,
   "metadata": {},
   "outputs": [
    {
     "name": "stdout",
     "output_type": "stream",
     "text": [
      "Grade: C\n"
     ]
    }
   ],
   "source": [
    "# >=90 -> A, 80-90->B, 70-80->C\n",
    "\n",
    "marks = 70\n",
    "if marks>=90:\n",
    "    print(\"Grade: A\")\n",
    "elif marks>=80:\n",
    "    print('Grade: B')\n",
    "elif marks>=70:\n",
    "    print('Grade: C')\n",
    "else:\n",
    "    print('F')\n",
    "\n",
    "    \n",
    "\n"
   ]
  },
  {
   "cell_type": "code",
   "execution_count": 308,
   "metadata": {},
   "outputs": [
    {
     "name": "stdout",
     "output_type": "stream",
     "text": [
      "Grade: Excellent!\n"
     ]
    }
   ],
   "source": [
    "marks = 95\n",
    "subject = 'math'\n",
    "\n",
    "# subject = 'english'\n",
    "\n",
    "if marks>=90:\n",
    "    if subject == 'math':\n",
    "        print('Grade: Excellent!')\n",
    "    else:\n",
    "        print('Grade: Good!')\n",
    "\n"
   ]
  },
  {
   "cell_type": "code",
   "execution_count": 311,
   "metadata": {},
   "outputs": [
    {
     "data": {
      "text/plain": [
       "'Adult'"
      ]
     },
     "execution_count": 311,
     "metadata": {},
     "output_type": "execute_result"
    }
   ],
   "source": [
    "# ternary operator\n",
    "\n",
    "age = 18\n",
    "status = 'Adult' if age>=18 else 'Not an Adult'\n",
    "status"
   ]
  },
  {
   "cell_type": "markdown",
   "metadata": {},
   "source": [
    "### 9. Loops in Python\n",
    "**Points to Cover:**\n",
    "- `for` loops for iterating over sequences (lists, strings, etc.).\n",
    "- `while` loops for repeating until a condition is met.\n",
    "- Using `break`, `continue`, and `pass` in loops.\n",
    "- Nested loops for more complex iterations.\n",
    "- Looping with `range()` for numerical sequences."
   ]
  },
  {
   "cell_type": "code",
   "execution_count": 316,
   "metadata": {},
   "outputs": [
    {
     "data": {
      "text/plain": [
       "['banana',\n",
       " 'apple',\n",
       " 'cherry',\n",
       " 'orange',\n",
       " 'mango',\n",
       " ['banana', 'papaya'],\n",
       " ['apple', 'mango']]"
      ]
     },
     "execution_count": 316,
     "metadata": {},
     "output_type": "execute_result"
    }
   ],
   "source": [
    "fruits"
   ]
  },
  {
   "cell_type": "code",
   "execution_count": 315,
   "metadata": {},
   "outputs": [
    {
     "name": "stdout",
     "output_type": "stream",
     "text": [
      "banana\n",
      "apple\n",
      "cherry\n",
      "orange\n",
      "mango\n",
      "['banana', 'papaya']\n",
      "['apple', 'mango']\n"
     ]
    }
   ],
   "source": [
    "for fruit in fruits:\n",
    "    print(fruit)"
   ]
  },
  {
   "cell_type": "code",
   "execution_count": 321,
   "metadata": {},
   "outputs": [
    {
     "name": "stdout",
     "output_type": "stream",
     "text": [
      "K\n",
      "G\n",
      "P\n",
      " \n",
      "T\n",
      "a\n",
      "l\n",
      "k\n",
      "i\n",
      "e\n"
     ]
    }
   ],
   "source": [
    "# for x in list(hello_world):\n",
    "#     print(x)\n",
    "\n",
    "for x in name:\n",
    "    print(x)"
   ]
  },
  {
   "cell_type": "code",
   "execution_count": 322,
   "metadata": {},
   "outputs": [
    {
     "data": {
      "text/plain": [
       "'!hello world!'"
      ]
     },
     "execution_count": 322,
     "metadata": {},
     "output_type": "execute_result"
    }
   ],
   "source": [
    "hello"
   ]
  },
  {
   "cell_type": "code",
   "execution_count": 325,
   "metadata": {},
   "outputs": [
    {
     "name": "stdout",
     "output_type": "stream",
     "text": [
      "index: 0 =>> Char: !\n",
      "index: 1 =>> Char: h\n",
      "index: 2 =>> Char: e\n",
      "index: 3 =>> Char: l\n",
      "index: 4 =>> Char: l\n",
      "index: 5 =>> Char: o\n",
      "index: 6 =>> Char:  \n",
      "index: 7 =>> Char: w\n",
      "index: 8 =>> Char: o\n",
      "index: 9 =>> Char: r\n",
      "index: 10 =>> Char: l\n",
      "index: 11 =>> Char: d\n",
      "index: 12 =>> Char: !\n"
     ]
    }
   ],
   "source": [
    "# while loop\n",
    "\n",
    "# print(len(hello))\n",
    "\n",
    "index = 0\n",
    "while (index<len(hello)):\n",
    "    print(f\"index: {index} =>> Char: {hello[index]}\")\n",
    "\n",
    "    index = index + 1"
   ]
  },
  {
   "cell_type": "code",
   "execution_count": 328,
   "metadata": {},
   "outputs": [
    {
     "name": "stdout",
     "output_type": "stream",
     "text": [
      "K\n",
      "G\n",
      "P\n"
     ]
    }
   ],
   "source": [
    "for x in name:\n",
    "    # stop at x==space\n",
    "    if x == ' ':\n",
    "        break\n",
    "\n",
    "    print(x)\n"
   ]
  },
  {
   "cell_type": "code",
   "execution_count": 330,
   "metadata": {},
   "outputs": [
    {
     "name": "stdout",
     "output_type": "stream",
     "text": [
      "index: 0 =>> Char: !\n",
      "index: 1 =>> Char: h\n",
      "index: 2 =>> Char: e\n",
      "index: 3 =>> Char: l\n",
      "index: 4 =>> Char: l\n",
      "index: 5 =>> Char: o\n"
     ]
    }
   ],
   "source": [
    "index = 0\n",
    "while (index<len(hello)):\n",
    "    if hello[index] == ' ':\n",
    "        break\n",
    "    \n",
    "    print(f\"index: {index} =>> Char: {hello[index]}\")\n",
    "\n",
    "    index = index + 1\n",
    "\n"
   ]
  },
  {
   "cell_type": "code",
   "execution_count": 334,
   "metadata": {},
   "outputs": [
    {
     "name": "stdout",
     "output_type": "stream",
     "text": [
      "KGP Talkie\n",
      "K\n",
      "T\n",
      "k\n",
      "i\n"
     ]
    }
   ],
   "source": [
    "print(name)\n",
    "for x in name:\n",
    "    if x.lower() in 'kti':\n",
    "        print(x)"
   ]
  },
  {
   "cell_type": "code",
   "execution_count": 336,
   "metadata": {},
   "outputs": [
    {
     "name": "stdout",
     "output_type": "stream",
     "text": [
      "KGP Talkie\n",
      "K\n",
      "G\n",
      "P\n",
      "T\n",
      "a\n",
      "l\n",
      "k\n",
      "i\n",
      "e\n"
     ]
    }
   ],
   "source": [
    "print(name)\n",
    "for x in name:\n",
    "    if x == ' ':\n",
    "        continue\n",
    "\n",
    "    print(x)"
   ]
  },
  {
   "cell_type": "code",
   "execution_count": 338,
   "metadata": {},
   "outputs": [
    {
     "name": "stdout",
     "output_type": "stream",
     "text": [
      "index: 0 =>> Char: !\n",
      "index: 1 =>> Char: h\n",
      "index: 2 =>> Char: e\n",
      "index: 3 =>> Char: l\n",
      "index: 4 =>> Char: l\n",
      "index: 5 =>> Char: o\n",
      "index: 7 =>> Char: w\n",
      "index: 8 =>> Char: o\n",
      "index: 9 =>> Char: r\n",
      "index: 10 =>> Char: l\n",
      "index: 11 =>> Char: d\n",
      "index: 12 =>> Char: !\n"
     ]
    }
   ],
   "source": [
    "index = 0\n",
    "while (index<len(hello)):\n",
    "    if hello[index] == ' ':\n",
    "        index = index + 1\n",
    "        continue\n",
    "    \n",
    "    print(f\"index: {index} =>> Char: {hello[index]}\")\n",
    "\n",
    "    index = index + 1"
   ]
  },
  {
   "cell_type": "code",
   "execution_count": 351,
   "metadata": {},
   "outputs": [
    {
     "name": "stdout",
     "output_type": "stream",
     "text": [
      "[0.2, 0.4, 0.6, 0.8, 1.0, 1.2, 1.4, 1.6, 1.8, 2.0, 2.2, 2.4, 2.6, 2.8, 3.0, 3.2, 3.4, 3.6, 3.8, 4.0, 4.2, 4.4, 4.6, 4.8, 5.0, 5.2, 5.4, 5.6, 5.8, 6.0, 6.2, 6.4, 6.6, 6.8, 7.0, 7.2, 7.4, 7.6, 7.8, 8.0, 8.2, 8.4, 8.6, 8.8, 9.0, 9.2, 9.4, 9.6, 9.8]\n"
     ]
    }
   ],
   "source": [
    "# range -> create range between given numbers start:end\n",
    "\n",
    "list(range(5))\n",
    "list(range(2,10))\n",
    "\n",
    "list(range(2, 10, 2))\n",
    "\n",
    "temp_list = []\n",
    "for x in list(range(2, 100, 2)):\n",
    "    temp_list.append(x/10)\n",
    "\n",
    "print(temp_list)\n",
    "\n"
   ]
  },
  {
   "cell_type": "code",
   "execution_count": 355,
   "metadata": {},
   "outputs": [
    {
     "name": "stdout",
     "output_type": "stream",
     "text": [
      "[1, 2, 4, 5, 7, 8, 10, 11, 13, 14, 16, 17, 19, 20, 22, 23, 25, 26, 28, 29, 31, 32, 34, 35, 37, 38, 40, 41, 43, 44, 46, 47, 49, 50, 52, 53, 55, 56, 58, 59, 61, 62, 64, 65, 67, 68, 70, 71, 73, 74, 76, 77, 79, 80, 82, 83, 85, 86, 88, 89, 91, 92, 94, 95, 97, 98]\n"
     ]
    }
   ],
   "source": [
    "# find those which are not divisible by 3\n",
    "\n",
    "non_div3 = []\n",
    "for x in range(100):\n",
    "    if x % 3 != 0:\n",
    "        non_div3.append(x)\n",
    "\n",
    "print(non_div3) "
   ]
  },
  {
   "cell_type": "code",
   "execution_count": 357,
   "metadata": {},
   "outputs": [
    {
     "name": "stdout",
     "output_type": "stream",
     "text": [
      "('name', 'Bob')\n",
      "('job', 'Data Scientist')\n",
      "('age', 30)\n"
     ]
    }
   ],
   "source": [
    "for item in person.items():\n",
    "    print(item)"
   ]
  },
  {
   "cell_type": "code",
   "execution_count": 358,
   "metadata": {},
   "outputs": [
    {
     "name": "stdout",
     "output_type": "stream",
     "text": [
      "key: name || value: Bob\n",
      "key: job || value: Data Scientist\n",
      "key: age || value: 30\n"
     ]
    }
   ],
   "source": [
    "for k,v in person.items():\n",
    "    print(f\"key: {k} || value: {v}\")"
   ]
  },
  {
   "cell_type": "code",
   "execution_count": null,
   "metadata": {},
   "outputs": [],
   "source": []
  },
  {
   "cell_type": "markdown",
   "metadata": {},
   "source": [
    "\n",
    "### 10. Methods and Lambda Functions\n",
    "**Points to Cover:**\n",
    "- Defining functions using `def` and understanding return values.\n",
    "- Understanding parameters and arguments, including default arguments.\n",
    "- Using lambda functions for small, anonymous functions.\n",
    "- Higher-order functions like `map()`, `filter()`, and `sorted()` with lambda functions.\n",
    "- Scope and lifetime of variables in functions.\n"
   ]
  },
  {
   "cell_type": "code",
   "execution_count": 362,
   "metadata": {},
   "outputs": [
    {
     "data": {
      "text/plain": [
       "484"
      ]
     },
     "execution_count": 362,
     "metadata": {},
     "output_type": "execute_result"
    }
   ],
   "source": [
    "def sqaure_number(x):\n",
    "    return x**2\n",
    "\n",
    "sqaure_number(22)"
   ]
  },
  {
   "cell_type": "code",
   "execution_count": 364,
   "metadata": {},
   "outputs": [
    {
     "data": {
      "text/plain": [
       "('Hello Bob!!!', 'Hello KGP Talkie!!!')"
      ]
     },
     "execution_count": 364,
     "metadata": {},
     "output_type": "execute_result"
    }
   ],
   "source": [
    "def greet(name):\n",
    "    return f\"Hello {name}!!!\"\n",
    "\n",
    "greet('Bob'), greet('KGP Talkie')"
   ]
  },
  {
   "cell_type": "code",
   "execution_count": 370,
   "metadata": {},
   "outputs": [
    {
     "name": "stdout",
     "output_type": "stream",
     "text": [
      "outer function\n",
      "inner function\n",
      "outer function\n"
     ]
    }
   ],
   "source": [
    "def outer_function():\n",
    "    outer_var = 'outer function'\n",
    "\n",
    "    def inner_function():\n",
    "        inner_var = 'inner function'\n",
    "\n",
    "        print(outer_var)\n",
    "        print(inner_var)\n",
    "\n",
    "    inner_function()\n",
    "    print(outer_var)\n",
    "    # print(inner_var)\n",
    "\n",
    "\n",
    "outer_function()"
   ]
  },
  {
   "cell_type": "code",
   "execution_count": 373,
   "metadata": {},
   "outputs": [
    {
     "data": {
      "text/plain": [
       "[0, 1, 2, 3, 4, 5, 6, 7, 8, 9]"
      ]
     },
     "execution_count": 373,
     "metadata": {},
     "output_type": "execute_result"
    }
   ],
   "source": [
    "numbers = list(range(10))\n",
    "numbers"
   ]
  },
  {
   "cell_type": "code",
   "execution_count": 377,
   "metadata": {},
   "outputs": [
    {
     "data": {
      "text/plain": [
       "9"
      ]
     },
     "execution_count": 377,
     "metadata": {},
     "output_type": "execute_result"
    }
   ],
   "source": [
    "sqaure_number(numbers[3])"
   ]
  },
  {
   "cell_type": "code",
   "execution_count": 378,
   "metadata": {},
   "outputs": [
    {
     "data": {
      "text/plain": [
       "[0, 1, 4, 9, 16, 25, 36, 49, 64, 81]"
      ]
     },
     "execution_count": 378,
     "metadata": {},
     "output_type": "execute_result"
    }
   ],
   "source": [
    "sqaures = list(map(lambda x: x**2, numbers))\n",
    "sqaures"
   ]
  },
  {
   "cell_type": "code",
   "execution_count": 379,
   "metadata": {},
   "outputs": [
    {
     "data": {
      "text/plain": [
       "[0, 4, 16, 36, 64]"
      ]
     },
     "execution_count": 379,
     "metadata": {},
     "output_type": "execute_result"
    }
   ],
   "source": [
    "evens = list(filter(lambda x: x%2==0, sqaures))\n",
    "evens"
   ]
  },
  {
   "cell_type": "code",
   "execution_count": null,
   "metadata": {},
   "outputs": [],
   "source": [
    "[1, 0, 1, 0, 1, 0]"
   ]
  },
  {
   "cell_type": "code",
   "execution_count": 387,
   "metadata": {},
   "outputs": [
    {
     "name": "stdout",
     "output_type": "stream",
     "text": [
      "['apple', 'banana', 'cherry', 'mango', 'orange']\n"
     ]
    },
    {
     "data": {
      "text/plain": [
       "['apple', 'banana', 'mango', 'cherry', 'orange']"
      ]
     },
     "execution_count": 387,
     "metadata": {},
     "output_type": "execute_result"
    }
   ],
   "source": [
    "fruits = ['orange', 'banana','mango','apple', 'cherry']\n",
    "print(sorted(fruits))\n",
    "\n",
    "sorted(fruits, key=lambda x: x[2], reverse=True)"
   ]
  },
  {
   "cell_type": "markdown",
   "metadata": {},
   "source": [
    "### 11. Exception Handling\n",
    "**Points to Cover:**\n",
    "- Understanding exceptions and errors.\n",
    "- Using `try`, `except`, `else`, and `finally` blocks.\n",
    "- Raising exceptions using `raise`.\n",
    "- Creating custom exceptions.\n",
    "- Best practices for error handling.\n"
   ]
  },
  {
   "cell_type": "code",
   "execution_count": 395,
   "metadata": {},
   "outputs": [
    {
     "name": "stdout",
     "output_type": "stream",
     "text": [
      "You can't divide by zero\n",
      "You can't divide by zero\n",
      "division by zero\n"
     ]
    }
   ],
   "source": [
    "y = 0.1 # 0\n",
    "x = 1/y # could be anything\n",
    "\n",
    "if y != 0:\n",
    "    x = 1/y\n",
    "\n",
    "# sqaure_number('12')\n",
    "\n",
    "try:\n",
    "    result = 1/0\n",
    "except:\n",
    "    print(\"You can't divide by zero\")\n",
    "\n",
    "\n",
    "\n",
    "try:\n",
    "    result = 1/0\n",
    "except Exception as e:\n",
    "    print(\"You can't divide by zero\")\n",
    "\n",
    "    print(e)\n",
    "    # raise(e)"
   ]
  },
  {
   "cell_type": "code",
   "execution_count": 402,
   "metadata": {},
   "outputs": [
    {
     "name": "stdout",
     "output_type": "stream",
     "text": [
      "That's not a valid number\n",
      "I run always\n"
     ]
    }
   ],
   "source": [
    "# try, except, else, finally\n",
    "try:\n",
    "    number = int('12.5')\n",
    "except ValueError:\n",
    "    print(\"That's not a valid number\")\n",
    "    # raise(ValueError)\n",
    "\n",
    "else:\n",
    "    print(f\"Your number is {number}\")\n",
    "\n",
    "finally:\n",
    "    print(\"I run always\")"
   ]
  },
  {
   "cell_type": "code",
   "execution_count": null,
   "metadata": {},
   "outputs": [],
   "source": []
  },
  {
   "cell_type": "markdown",
   "metadata": {},
   "source": [
    "### 12. Comprehensions\n",
    "**Points to Cover:**\n",
    "- List comprehensions for concise looping and filtering.\n",
    "- Dictionary comprehensions for creating dictionaries.\n",
    "- Set comprehensions for creating sets.\n",
    "- Nested comprehensions for complex scenarios.\n"
   ]
  },
  {
   "cell_type": "code",
   "execution_count": 403,
   "metadata": {},
   "outputs": [
    {
     "data": {
      "text/plain": [
       "[0, 1, 2, 3, 4, 5, 6, 7, 8, 9]"
      ]
     },
     "execution_count": 403,
     "metadata": {},
     "output_type": "execute_result"
    }
   ],
   "source": [
    "numbers"
   ]
  },
  {
   "cell_type": "code",
   "execution_count": 411,
   "metadata": {},
   "outputs": [
    {
     "data": {
      "text/plain": [
       "[0, 1, 4, 9, 16, 25, 36, 49, 64, 81]"
      ]
     },
     "execution_count": 411,
     "metadata": {},
     "output_type": "execute_result"
    }
   ],
   "source": [
    "for x in numbers:\n",
    "    y = x**2\n",
    "\n",
    "sqaures = [x**2 for x in numbers]\n",
    "sqaures"
   ]
  },
  {
   "cell_type": "code",
   "execution_count": 409,
   "metadata": {},
   "outputs": [
    {
     "data": {
      "text/plain": [
       "[0, 2, 4, 6, 8]"
      ]
     },
     "execution_count": 409,
     "metadata": {},
     "output_type": "execute_result"
    }
   ],
   "source": [
    "[x for x in numbers if x%2==0]"
   ]
  },
  {
   "cell_type": "code",
   "execution_count": 410,
   "metadata": {},
   "outputs": [
    {
     "data": {
      "text/plain": [
       "[0, 4, 16, 36, 64]"
      ]
     },
     "execution_count": 410,
     "metadata": {},
     "output_type": "execute_result"
    }
   ],
   "source": [
    "[x**2 for x in numbers if (x**2)%2==0]"
   ]
  },
  {
   "cell_type": "code",
   "execution_count": 414,
   "metadata": {},
   "outputs": [
    {
     "data": {
      "text/plain": [
       "({0: 0, 1: 1, 2: 4, 3: 9, 4: 16, 5: 25, 6: 36, 7: 49, 8: 64, 9: 81},\n",
       " {0: 0, 1: 1, 2: 4, 3: 9, 4: 16, 5: 25, 6: 36, 7: 49, 8: 64, 9: 81})"
      ]
     },
     "execution_count": 414,
     "metadata": {},
     "output_type": "execute_result"
    }
   ],
   "source": [
    "# {1:1, 2:4, 3:9, 4:16}\n",
    "\n",
    "\n",
    "{x:x**2 for x in numbers}, dict(zip(numbers, sqaures))"
   ]
  },
  {
   "cell_type": "code",
   "execution_count": 416,
   "metadata": {},
   "outputs": [],
   "source": [
    "fruits = fruits + [['item1', 'item2']]"
   ]
  },
  {
   "cell_type": "code",
   "execution_count": 417,
   "metadata": {},
   "outputs": [
    {
     "data": {
      "text/plain": [
       "['orange', 'banana', 'mango', 'apple', 'cherry', ['item1', 'item2']]"
      ]
     },
     "execution_count": 417,
     "metadata": {},
     "output_type": "execute_result"
    }
   ],
   "source": [
    "fruits"
   ]
  },
  {
   "cell_type": "code",
   "execution_count": 422,
   "metadata": {},
   "outputs": [
    {
     "data": {
      "text/plain": [
       "['orange', 'banana', 'mango', 'apple', 'cherry', 'item1', 'item2']"
      ]
     },
     "execution_count": 422,
     "metadata": {},
     "output_type": "execute_result"
    }
   ],
   "source": [
    "[x for item in fruits for x in (item if type(item)==list else [item])]"
   ]
  },
  {
   "cell_type": "markdown",
   "metadata": {},
   "source": [
    "### 13. Modules and Packages\n",
    "**Points to Cover:**\n",
    "- Importing standard and third-party modules.\n",
    "- Creating and using custom modules.\n",
    "- Understanding the Python Package Index (PyPI).\n",
    "- Installing packages using `pip`.\n",
    "- Using `__name__ == '__main__'` for script execution.\n"
   ]
  },
  {
   "cell_type": "code",
   "execution_count": null,
   "metadata": {},
   "outputs": [],
   "source": [
    "# !pip install requests"
   ]
  },
  {
   "cell_type": "code",
   "execution_count": 424,
   "metadata": {},
   "outputs": [
    {
     "data": {
      "text/plain": [
       "49.0"
      ]
     },
     "execution_count": 424,
     "metadata": {},
     "output_type": "execute_result"
    }
   ],
   "source": [
    "import math\n",
    "\n",
    "math.pow(7, 2)"
   ]
  },
  {
   "cell_type": "code",
   "execution_count": 425,
   "metadata": {},
   "outputs": [],
   "source": [
    "from math import pi"
   ]
  },
  {
   "cell_type": "code",
   "execution_count": 426,
   "metadata": {},
   "outputs": [
    {
     "data": {
      "text/plain": [
       "3.141592653589793"
      ]
     },
     "execution_count": 426,
     "metadata": {},
     "output_type": "execute_result"
    }
   ],
   "source": [
    "pi"
   ]
  },
  {
   "cell_type": "code",
   "execution_count": 1,
   "metadata": {},
   "outputs": [],
   "source": [
    "import module"
   ]
  },
  {
   "cell_type": "code",
   "execution_count": 2,
   "metadata": {},
   "outputs": [
    {
     "data": {
      "text/plain": [
       "9"
      ]
     },
     "execution_count": 2,
     "metadata": {},
     "output_type": "execute_result"
    }
   ],
   "source": [
    "module.sqaure(3)"
   ]
  },
  {
   "cell_type": "code",
   "execution_count": 3,
   "metadata": {},
   "outputs": [
    {
     "data": {
      "text/plain": [
       "'Hello KGP Talkie!!!!!!!!!'"
      ]
     },
     "execution_count": 3,
     "metadata": {},
     "output_type": "execute_result"
    }
   ],
   "source": [
    "module.greet('KGP Talkie')"
   ]
  },
  {
   "cell_type": "code",
   "execution_count": 1,
   "metadata": {},
   "outputs": [
    {
     "name": "stdout",
     "output_type": "stream",
     "text": [
      "This module2 script is being imported\n"
     ]
    }
   ],
   "source": [
    "from scripts import module2"
   ]
  },
  {
   "cell_type": "code",
   "execution_count": 5,
   "metadata": {},
   "outputs": [
    {
     "data": {
      "text/plain": [
       "'Hello KGP Talkie#######'"
      ]
     },
     "execution_count": 5,
     "metadata": {},
     "output_type": "execute_result"
    }
   ],
   "source": [
    "module2.greet('KGP Talkie')"
   ]
  },
  {
   "cell_type": "markdown",
   "metadata": {},
   "source": [
    "### 14. Working with Dates and Times\n",
    "**Points to Cover:**\n",
    "- Using `datetime` module for handling dates and times.\n",
    "- Formatting and parsing dates with `strftime` and `strptime`.\n",
    "- Performing arithmetic operations on dates and times.\n",
    "- Handling time zones with `pytz`."
   ]
  },
  {
   "cell_type": "code",
   "execution_count": 2,
   "metadata": {},
   "outputs": [],
   "source": [
    "from datetime import datetime, timedelta"
   ]
  },
  {
   "cell_type": "code",
   "execution_count": 14,
   "metadata": {},
   "outputs": [
    {
     "data": {
      "text/plain": [
       "datetime.datetime(2024, 8, 13, 21, 52, 6, 445688)"
      ]
     },
     "execution_count": 14,
     "metadata": {},
     "output_type": "execute_result"
    }
   ],
   "source": [
    "datetime.now()"
   ]
  },
  {
   "cell_type": "code",
   "execution_count": 15,
   "metadata": {},
   "outputs": [
    {
     "data": {
      "text/plain": [
       "'2024-08-13 21:52:21.004439'"
      ]
     },
     "execution_count": 15,
     "metadata": {},
     "output_type": "execute_result"
    }
   ],
   "source": [
    "str(datetime.now())"
   ]
  },
  {
   "cell_type": "code",
   "execution_count": 21,
   "metadata": {},
   "outputs": [
    {
     "data": {
      "text/plain": [
       "'2024-08-13, 21:54:02'"
      ]
     },
     "execution_count": 21,
     "metadata": {},
     "output_type": "execute_result"
    }
   ],
   "source": [
    "now = datetime.now()\n",
    "\n",
    "now.strftime(\"%Y-%m-%d, %H:%M:%S\")"
   ]
  },
  {
   "cell_type": "code",
   "execution_count": 24,
   "metadata": {},
   "outputs": [
    {
     "data": {
      "text/plain": [
       "datetime.datetime(2024, 8, 10, 0, 0)"
      ]
     },
     "execution_count": 24,
     "metadata": {},
     "output_type": "execute_result"
    }
   ],
   "source": [
    "date_str = \"2024-08-10\"\n",
    "datetime.strptime(date_str, \"%Y-%m-%d\")"
   ]
  },
  {
   "cell_type": "code",
   "execution_count": 29,
   "metadata": {},
   "outputs": [
    {
     "data": {
      "text/plain": [
       "datetime.datetime(2024, 8, 11, 21, 54, 2, 787580)"
      ]
     },
     "execution_count": 29,
     "metadata": {},
     "output_type": "execute_result"
    }
   ],
   "source": [
    "now - timedelta(days=2)"
   ]
  },
  {
   "cell_type": "code",
   "execution_count": 30,
   "metadata": {},
   "outputs": [],
   "source": [
    "import pytz"
   ]
  },
  {
   "cell_type": "code",
   "execution_count": 35,
   "metadata": {},
   "outputs": [
    {
     "data": {
      "text/plain": [
       "datetime.datetime(2024, 8, 13, 16, 30, 0, 672847, tzinfo=<UTC>)"
      ]
     },
     "execution_count": 35,
     "metadata": {},
     "output_type": "execute_result"
    }
   ],
   "source": [
    "# for tz in pytz.all_timezones:\n",
    "#     print(tz)\n",
    "\n",
    "datetime.now(tz=pytz.utc)"
   ]
  },
  {
   "cell_type": "code",
   "execution_count": 38,
   "metadata": {},
   "outputs": [
    {
     "data": {
      "text/plain": [
       "datetime.datetime(2024, 8, 13, 17, 24, 2, 787580, tzinfo=<DstTzInfo 'Europe/Lisbon' WEST+1:00:00 DST>)"
      ]
     },
     "execution_count": 38,
     "metadata": {},
     "output_type": "execute_result"
    }
   ],
   "source": [
    "now.astimezone(pytz.timezone(\"Europe/Lisbon\"))"
   ]
  },
  {
   "cell_type": "code",
   "execution_count": null,
   "metadata": {},
   "outputs": [],
   "source": []
  }
 ],
 "metadata": {
  "kernelspec": {
   "display_name": "base",
   "language": "python",
   "name": "python3"
  },
  "language_info": {
   "codemirror_mode": {
    "name": "ipython",
    "version": 3
   },
   "file_extension": ".py",
   "mimetype": "text/x-python",
   "name": "python",
   "nbconvert_exporter": "python",
   "pygments_lexer": "ipython3",
   "version": "3.12.4"
  }
 },
 "nbformat": 4,
 "nbformat_minor": 2
}
